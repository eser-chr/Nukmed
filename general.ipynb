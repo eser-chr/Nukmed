{
 "cells": [
  {
   "cell_type": "code",
   "execution_count": 1,
   "metadata": {},
   "outputs": [],
   "source": [
    "import numpy as np\n",
    "import matplotlib.pyplot as plt\n",
    "import pandas as pd\n",
    "\n",
    "from extract_pvat_marker import *\n",
    "import os\n",
    "from extract_pvat_marker import periaortic_fat_marker, calculate_fat_volume_in_ml\n",
    "from extract_pvat_marker import *"
   ]
  },
  {
   "cell_type": "code",
   "execution_count": 2,
   "metadata": {},
   "outputs": [],
   "source": [
    "paths = Paths(\"./AC_CT\", \"./TEST_NIFTI\", \"./TEST_SEG\", \"./res.csv\", \"temp\")"
   ]
  },
  {
   "cell_type": "code",
   "execution_count": 3,
   "metadata": {},
   "outputs": [],
   "source": [
    "paths.create_missing_directories()"
   ]
  },
  {
   "cell_type": "code",
   "execution_count": 4,
   "metadata": {},
   "outputs": [
    {
     "name": "stdout",
     "output_type": "stream",
     "text": [
      "Created missing_directories.....\n",
      "Chris Rorden's dcm2niiX version v1.0.20211006  (JP2:OpenJPEG) GCC11.2.0 x86-64 (64-bit Linux)\n",
      "Found 324 DICOM file(s)\n",
      "Convert 324 DICOM as /home/chris/Desktop/NUKMED/TEST_NIFTI/temp/AC_CT_PET_CT_F18_FDG_venoes_20180618111929_2 (512x512x324x1)\n",
      "Conversion required 0.788312 seconds (0.788011 for core code).\n",
      "converreted dicom to nifti.....\n",
      "Moved .....\n",
      "Created isotropic....\n",
      "\n",
      "If you use this tool please cite: https://pubs.rsna.org/doi/10.1148/ryai.230024\n",
      "\n",
      "No GPU detected. Running on CPU. This can be very slow. The '--fast' or the `--roi_subset` option can help to reduce runtime.\n",
      "Generating rough body segmentation...\n",
      "Resampling...\n",
      "  Resampled in 8.94s\n",
      "Predicting...\n"
     ]
    },
    {
     "name": "stderr",
     "output_type": "stream",
     "text": [
      "/home/chris/anaconda3/envs/chris/lib/python3.12/site-packages/nnunetv2/utilities/plans_handling/plans_handler.py:37: UserWarning: Detected old nnU-Net plans format. Attempting to reconstruct network architecture parameters. If this fails, rerun nnUNetv2_plan_experiment for your dataset. If you use a custom architecture, please downgrade nnU-Net to the version you implemented this or update your implementation + plans.\n",
      "  warnings.warn(\"Detected old nnU-Net plans format. Attempting to reconstruct network architecture \"\n",
      "100%|██████████| 45/45 [00:28<00:00,  1.56it/s]\n"
     ]
    },
    {
     "name": "stdout",
     "output_type": "stream",
     "text": [
      "  Predicted in 37.18s\n",
      "Resampling...\n",
      "  cropping from (512, 512, 710) to (213, 156, 270)\n",
      "Resampling...\n",
      "  Resampled in 2.24s\n",
      "Predicting part 1 of 2 ...\n"
     ]
    },
    {
     "name": "stderr",
     "output_type": "stream",
     "text": [
      "/home/chris/anaconda3/envs/chris/lib/python3.12/site-packages/nnunetv2/utilities/plans_handling/plans_handler.py:37: UserWarning: Detected old nnU-Net plans format. Attempting to reconstruct network architecture parameters. If this fails, rerun nnUNetv2_plan_experiment for your dataset. If you use a custom architecture, please downgrade nnU-Net to the version you implemented this or update your implementation + plans.\n",
      "  warnings.warn(\"Detected old nnU-Net plans format. Attempting to reconstruct network architecture \"\n",
      "100%|██████████| 12/12 [00:53<00:00,  4.48s/it]\n"
     ]
    },
    {
     "name": "stdout",
     "output_type": "stream",
     "text": [
      "Predicting part 2 of 2 ...\n"
     ]
    },
    {
     "name": "stderr",
     "output_type": "stream",
     "text": [
      "100%|██████████| 12/12 [00:53<00:00,  4.45s/it]\n"
     ]
    },
    {
     "name": "stdout",
     "output_type": "stream",
     "text": [
      "  Predicted in 121.59s\n",
      "Resampling...\n",
      "Saving segmentations...\n"
     ]
    },
    {
     "name": "stderr",
     "output_type": "stream",
     "text": [
      "100%|██████████| 4/4 [00:04<00:00,  1.08s/it]\n"
     ]
    },
    {
     "name": "stdout",
     "output_type": "stream",
     "text": [
      "  Saved in 9.42s\n",
      "\n",
      "\n",
      "Start real code\n"
     ]
    },
    {
     "ename": "TypeError",
     "evalue": "create_obj_organ_names() missing 1 required positional argument: 'organs_to_names'",
     "output_type": "error",
     "traceback": [
      "\u001b[0;31m---------------------------------------------------------------------------\u001b[0m",
      "\u001b[0;31mTypeError\u001b[0m                                 Traceback (most recent call last)",
      "Cell \u001b[0;32mIn[4], line 1\u001b[0m\n\u001b[0;32m----> 1\u001b[0m \u001b[43mperiaortic_fat_marker\u001b[49m\u001b[43m(\u001b[49m\u001b[43mpaths\u001b[49m\u001b[43m)\u001b[49m\n",
      "File \u001b[0;32m~/Desktop/NUKMED/extract_pvat_marker.py:207\u001b[0m, in \u001b[0;36mperiaortic_fat_marker\u001b[0;34m(paths, min_connected_voxels, value_range, dilation_length_mm, radiomics, precomputed_mask)\u001b[0m\n\u001b[1;32m    200\u001b[0m \u001b[38;5;28mprint\u001b[39m(\u001b[38;5;124m\"\u001b[39m\u001b[38;5;124mStart real code\u001b[39m\u001b[38;5;124m\"\u001b[39m)\n\u001b[1;32m    202\u001b[0m organs_to_names \u001b[38;5;241m=\u001b[39m {\u001b[38;5;124m\"\u001b[39m\u001b[38;5;124maorta\u001b[39m\u001b[38;5;124m\"\u001b[39m:\u001b[38;5;124m\"\u001b[39m\u001b[38;5;124maorta.nii.gz\u001b[39m\u001b[38;5;124m\"\u001b[39m, \n\u001b[1;32m    203\u001b[0m                    \u001b[38;5;124m\"\u001b[39m\u001b[38;5;124mlung_ll\u001b[39m\u001b[38;5;124m\"\u001b[39m:\u001b[38;5;124m\"\u001b[39m\u001b[38;5;124mlung_lower_lobe_left.nii.gz\u001b[39m\u001b[38;5;124m\"\u001b[39m, \n\u001b[1;32m    204\u001b[0m                    \u001b[38;5;124m\"\u001b[39m\u001b[38;5;124mlung_lr\u001b[39m\u001b[38;5;124m\"\u001b[39m:\u001b[38;5;124m\"\u001b[39m\u001b[38;5;124mlung_lower_lobe_right.nii.gz\u001b[39m\u001b[38;5;124m\"\u001b[39m, \n\u001b[1;32m    205\u001b[0m                    \u001b[38;5;124m\"\u001b[39m\u001b[38;5;124mheart\u001b[39m\u001b[38;5;124m\"\u001b[39m:\u001b[38;5;124m\"\u001b[39m\u001b[38;5;124mheart.nii.gz\u001b[39m\u001b[38;5;124m\"\u001b[39m}\n\u001b[0;32m--> 207\u001b[0m organs:Dict[\u001b[38;5;28mstr\u001b[39m, Organ] \u001b[38;5;241m=\u001b[39m \u001b[43mcreate_obj_organ_names\u001b[49m\u001b[43m(\u001b[49m\u001b[43morgans_to_names\u001b[49m\u001b[43m)\u001b[49m\n\u001b[1;32m    208\u001b[0m organs[\u001b[38;5;124m\"\u001b[39m\u001b[38;5;124misotropic\u001b[39m\u001b[38;5;124m\"\u001b[39m] \u001b[38;5;241m=\u001b[39m Organ(\u001b[38;5;124m\"\u001b[39m\u001b[38;5;124misotropic\u001b[39m\u001b[38;5;124m\"\u001b[39m, paths\u001b[38;5;241m.\u001b[39misotropic_nifti_path)\n\u001b[1;32m    210\u001b[0m \u001b[38;5;28;01mfor\u001b[39;00m organ \u001b[38;5;129;01min\u001b[39;00m organs\u001b[38;5;241m.\u001b[39mkeys():\n",
      "\u001b[0;31mTypeError\u001b[0m: create_obj_organ_names() missing 1 required positional argument: 'organs_to_names'"
     ]
    }
   ],
   "source": [
    "periaortic_fat_marker(paths)"
   ]
  },
  {
   "cell_type": "code",
   "execution_count": 4,
   "metadata": {},
   "outputs": [],
   "source": [
    "organs_to_names = {\"aorta\":\"aorta.nii.gz\", \n",
    "                       \"lung_ll\":\"lung_lower_lobe_left.nii.gz\", \n",
    "                       \"lung_lr\":\"lung_lower_lobe_right.nii.gz\", \n",
    "                       \"heart\":\"heart.nii.gz\"}"
   ]
  },
  {
   "cell_type": "code",
   "execution_count": 5,
   "metadata": {},
   "outputs": [],
   "source": [
    "organs:Dict[str, Organ] = create_obj_organ_names(paths, organs_to_names)\n",
    "organs[\"isotropic\"] = Organ(\"isotropic\", paths.isotropic_nifti_path)"
   ]
  },
  {
   "cell_type": "code",
   "execution_count": 6,
   "metadata": {},
   "outputs": [],
   "source": [
    "\n",
    "for organ in organs.keys():\n",
    "    organs[organ].load_image()\n",
    "    organs[organ].load_array()\n",
    "\n",
    "organs[\"aorta\"].load_nifti_options()\n",
    "organs[\"isotropic\"].load_nifti_options()"
   ]
  },
  {
   "cell_type": "code",
   "execution_count": 7,
   "metadata": {},
   "outputs": [],
   "source": [
    "last_lung_z_index = get_lastZ_of_all([organs[\"lung_ll\"].mask, organs[\"lung_lr\"].mask])"
   ]
  },
  {
   "cell_type": "code",
   "execution_count": 10,
   "metadata": {},
   "outputs": [],
   "source": [
    "def split_organ_z(z_value:int, organ_mask:np.ndarray):\n",
    "\n",
    "    \"\"\" \n",
    "    Returns the part of the organ that's above a value on z-axis.\n",
    "    \"\"\"\n",
    "    new = organ_mask.copy()\n",
    "    new[:, :, z_value:] = 1\n",
    "    new[:, :, :z_value] = 0\n",
    "    return new * organ_mask"
   ]
  },
  {
   "cell_type": "code",
   "execution_count": 8,
   "metadata": {},
   "outputs": [
    {
     "name": "stdout",
     "output_type": "stream",
     "text": [
      "Start real code\n"
     ]
    }
   ],
   "source": [
    "thoracic_aorta_mask = split_organ_z(last_lung_z_index, organs[\"aorta\"].mask)\n",
    "print(\"Start real code\")"
   ]
  },
  {
   "cell_type": "code",
   "execution_count": 9,
   "metadata": {},
   "outputs": [],
   "source": [
    "dilation_length_mm=5\n",
    "value_range=(-195, -45)\n",
    "min_connected_voxels=1"
   ]
  },
  {
   "cell_type": "code",
   "execution_count": 13,
   "metadata": {},
   "outputs": [],
   "source": [
    "save_nifti(thoracic_aorta_mask, organs, os.path.join(paths.segmentation_folder, f\"thoracic_aorta.nii.gz\"))"
   ]
  },
  {
   "cell_type": "code",
   "execution_count": 10,
   "metadata": {},
   "outputs": [],
   "source": [
    "organs[\"thoracic_aorta\"] = Organ(\"aorta\", os.path.join(\n",
    "                    paths.segmentation_folder, \"thoracic_aorta.nii.gz\"))"
   ]
  },
  {
   "cell_type": "code",
   "execution_count": 11,
   "metadata": {},
   "outputs": [],
   "source": [
    "organs[\"thoracic_aorta\"].load_array()\n",
    "thoracic_aorta = organs[\"isotropic\"].mask * organs[\"thoracic_aorta\"].mask \n"
   ]
  },
  {
   "cell_type": "code",
   "execution_count": 12,
   "metadata": {},
   "outputs": [],
   "source": [
    "surrounding_mask = volume_around_mask(thoracic_aorta_mask, organs[\"isotropic\"].nifti_options.pixdim, dilation_length_mm)\n",
    "# save_nifti(surrounding_mask, organs, os.path.join(paths.segmentation_folder, f\"thoracic_aorta_surrounding.nii.gz\"))\n",
    "thoracic_aorta_surrounding = organs[\"isotropic\"].mask * surrounding_mask"
   ]
  },
  {
   "cell_type": "code",
   "execution_count": 13,
   "metadata": {},
   "outputs": [],
   "source": [
    "heart = organs[\"isotropic\"].mask * organs[\"heart\"].mask\n",
    "surrounding_mask = volume_around_mask(organs[\"heart\"].mask, organs[\"isotropic\"].nifti_options.pixdim, dilation_length_mm)\n",
    "save_nifti(surrounding_mask, organs, os.path.join(paths.segmentation_folder, f\"heart_surrounding.nii.gz\"))\n",
    "\n",
    "heart_surrounding = organs[\"isotropic\"].mask * surrounding_mask"
   ]
  },
  {
   "cell_type": "code",
   "execution_count": 14,
   "metadata": {},
   "outputs": [],
   "source": [
    "markers = pd.DataFrame()\n",
    "\n",
    "target_volume_map = {\n",
    "    \"Periaortic\": thoracic_aorta_surrounding,\n",
    "    \"Pericardial\": heart_surrounding,\n",
    "    \"Aorta\": thoracic_aorta,\n",
    "    \"Heart\": heart,\n",
    "}\n",
    "\n",
    "for target_area in target_volume_map.keys():\n",
    "\n",
    "    thres_vol_cm3, relative_vol = calculate_fat_volume_in_ml(\n",
    "        target_volume_map[target_area], value_range,\n",
    "        organs[\"isotropic\"].nifti_options.isotropic_target_spacing, \n",
    "                                min_connected_voxels, \n",
    "                                paths, \n",
    "                                organs[\"aorta\"].get_image()\n",
    "                                )\n",
    "\n",
    "\n",
    "    markers[f\"{target_area} absolute volume (ml)\"] = [thres_vol_cm3]\n",
    "    markers[f\"{target_area} relative volume\"] = [relative_vol]"
   ]
  },
  {
   "cell_type": "code",
   "execution_count": 15,
   "metadata": {},
   "outputs": [
    {
     "data": {
      "text/html": [
       "<div>\n",
       "<style scoped>\n",
       "    .dataframe tbody tr th:only-of-type {\n",
       "        vertical-align: middle;\n",
       "    }\n",
       "\n",
       "    .dataframe tbody tr th {\n",
       "        vertical-align: top;\n",
       "    }\n",
       "\n",
       "    .dataframe thead th {\n",
       "        text-align: right;\n",
       "    }\n",
       "</style>\n",
       "<table border=\"1\" class=\"dataframe\">\n",
       "  <thead>\n",
       "    <tr style=\"text-align: right;\">\n",
       "      <th></th>\n",
       "      <th>Periaortic absolute volume (ml)</th>\n",
       "      <th>Periaortic relative volume</th>\n",
       "      <th>Pericardial absolute volume (ml)</th>\n",
       "      <th>Pericardial relative volume</th>\n",
       "      <th>Aorta absolute volume (ml)</th>\n",
       "      <th>Aorta relative volume</th>\n",
       "      <th>Heart absolute volume (ml)</th>\n",
       "      <th>Heart relative volume</th>\n",
       "    </tr>\n",
       "  </thead>\n",
       "  <tbody>\n",
       "    <tr>\n",
       "      <th>0</th>\n",
       "      <td>22.396833</td>\n",
       "      <td>0.127458</td>\n",
       "      <td>28.049707</td>\n",
       "      <td>0.114545</td>\n",
       "      <td>0.158444</td>\n",
       "      <td>0.000879</td>\n",
       "      <td>0.25811</td>\n",
       "      <td>0.000626</td>\n",
       "    </tr>\n",
       "  </tbody>\n",
       "</table>\n",
       "</div>"
      ],
      "text/plain": [
       "   Periaortic absolute volume (ml)  Periaortic relative volume  \\\n",
       "0                        22.396833                    0.127458   \n",
       "\n",
       "   Pericardial absolute volume (ml)  Pericardial relative volume  \\\n",
       "0                         28.049707                     0.114545   \n",
       "\n",
       "   Aorta absolute volume (ml)  Aorta relative volume  \\\n",
       "0                    0.158444               0.000879   \n",
       "\n",
       "   Heart absolute volume (ml)  Heart relative volume  \n",
       "0                     0.25811               0.000626  "
      ]
     },
     "execution_count": 15,
     "metadata": {},
     "output_type": "execute_result"
    }
   ],
   "source": [
    "markers"
   ]
  },
  {
   "cell_type": "code",
   "execution_count": null,
   "metadata": {},
   "outputs": [],
   "source": []
  },
  {
   "cell_type": "code",
   "execution_count": null,
   "metadata": {},
   "outputs": [],
   "source": []
  },
  {
   "cell_type": "code",
   "execution_count": null,
   "metadata": {},
   "outputs": [],
   "source": []
  },
  {
   "cell_type": "code",
   "execution_count": null,
   "metadata": {},
   "outputs": [],
   "source": []
  },
  {
   "cell_type": "code",
   "execution_count": null,
   "metadata": {},
   "outputs": [],
   "source": []
  },
  {
   "cell_type": "code",
   "execution_count": null,
   "metadata": {},
   "outputs": [],
   "source": []
  },
  {
   "cell_type": "code",
   "execution_count": null,
   "metadata": {},
   "outputs": [],
   "source": []
  },
  {
   "cell_type": "code",
   "execution_count": null,
   "metadata": {},
   "outputs": [],
   "source": []
  }
 ],
 "metadata": {
  "kernelspec": {
   "display_name": "chris",
   "language": "python",
   "name": "python3"
  },
  "language_info": {
   "codemirror_mode": {
    "name": "ipython",
    "version": 3
   },
   "file_extension": ".py",
   "mimetype": "text/x-python",
   "name": "python",
   "nbconvert_exporter": "python",
   "pygments_lexer": "ipython3",
   "version": "3.12.2"
  }
 },
 "nbformat": 4,
 "nbformat_minor": 2
}
